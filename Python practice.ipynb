{
 "cells": [
  {
   "cell_type": "code",
   "execution_count": null,
   "id": "1e7ddabb-5d87-4e96-a102-f0f2cdc24644",
   "metadata": {},
   "outputs": [],
   "source": [
    "#import libraries"
   ]
  },
  {
   "cell_type": "code",
   "execution_count": 38,
   "id": "48b54e34-1844-422c-82be-b86aa9e42804",
   "metadata": {},
   "outputs": [],
   "source": [
    "import pandas as pd\n",
    "import numpy as nm\n",
    "import matplotlib as mt\n",
    "import seaborn as sb"
   ]
  },
  {
   "cell_type": "code",
   "execution_count": 36,
   "id": "e75f7f64-bc9c-434e-9a03-ceccccf469d1",
   "metadata": {},
   "outputs": [],
   "source": [
    "#Comments in python\n",
    "#comments in python is always adding by prefixing with #\n",
    "#when the code runs , # prefixed lines are ignored and it gives context while code reviews or if multiple ppl working on the same code "
   ]
  },
  {
   "cell_type": "code",
   "execution_count": 1,
   "id": "d470f31a-1998-4ef6-81a3-1e6458734e7a",
   "metadata": {},
   "outputs": [
    {
     "name": "stdout",
     "output_type": "stream",
     "text": [
      "I am gouree\n"
     ]
    }
   ],
   "source": [
    "#variables - they can begin with alphabet or _, they are case sensitive \n",
    "a = \"I am gouree\"\n",
    "print(a)"
   ]
  },
  {
   "cell_type": "code",
   "execution_count": 2,
   "id": "cddfe83f-7b95-4c5c-8b2b-4ed011348b73",
   "metadata": {},
   "outputs": [
    {
     "name": "stdout",
     "output_type": "stream",
     "text": [
      "<class 'str'>\n"
     ]
    }
   ],
   "source": [
    "#casting - this is when we want to assign a data type to a variable \n",
    "a = str(75) # this gives string as data type \n",
    "print(type(a))"
   ]
  },
  {
   "cell_type": "code",
   "execution_count": 6,
   "id": "65e2b068-ddcf-459e-8119-9bdc2aac3a0f",
   "metadata": {},
   "outputs": [
    {
     "name": "stdout",
     "output_type": "stream",
     "text": [
      "bat\n",
      "ball\n",
      "stumps\n"
     ]
    }
   ],
   "source": [
    "#multiple variables, we can give multiple variables at once by adding commas in between \n",
    "x, y, z = \"bat\", \"ball\", \"stumps\"\n",
    "print(x)\n",
    "print(y)\n",
    "print(z)"
   ]
  },
  {
   "cell_type": "code",
   "execution_count": 7,
   "id": "74572979-a5cc-4edc-9e76-b8a88742660f",
   "metadata": {},
   "outputs": [
    {
     "name": "stdout",
     "output_type": "stream",
     "text": [
      "bat\n",
      "bat\n",
      "bat\n"
     ]
    }
   ],
   "source": [
    "#we can also give 1 variable multiple assignments \n",
    "x = y = z =\"bat\"\n",
    "print(x)\n",
    "print(y)\n",
    "print(z)"
   ]
  },
  {
   "cell_type": "code",
   "execution_count": 8,
   "id": "281ba623-ab6c-4c40-abfe-fc5c96deb828",
   "metadata": {},
   "outputs": [
    {
     "name": "stdout",
     "output_type": "stream",
     "text": [
      "<class 'int'>\n"
     ]
    }
   ],
   "source": [
    "#datatypes , string, int, complex, float etc. to look at what type the data is we use \n",
    "x=45\n",
    "print(type(x))"
   ]
  },
  {
   "cell_type": "code",
   "execution_count": 10,
   "id": "8dca3a9b-1271-4a16-9a01-76f6911c8a8c",
   "metadata": {},
   "outputs": [
    {
     "name": "stdout",
     "output_type": "stream",
     "text": [
      "2\n"
     ]
    }
   ],
   "source": [
    "#casting is assigning a data type so if the data type is float we can change it to int etc.. \n",
    "y= int(2.34) # y will be 2\n",
    "print(y)"
   ]
  },
  {
   "cell_type": "code",
   "execution_count": 13,
   "id": "3da93550-5a94-4d26-9218-cabc37543302",
   "metadata": {},
   "outputs": [
    {
     "name": "stdout",
     "output_type": "stream",
     "text": [
      "i\n"
     ]
    }
   ],
   "source": [
    "#strings they are written in \" \" or ' ' we can assign strings to variables, for multi line strings we use \"\"\" \"\"\" or ''' ''' 3 quotes\n",
    "#strings are arrays , 1st character is 0, 2nd is 1 .... so if we want to print a particular position only \n",
    "x = \"the city pune is lovely\"\n",
    "print(x[5]) # this prints the 5th character starting from 0 on the left "
   ]
  },
  {
   "cell_type": "code",
   "execution_count": 15,
   "id": "e91ee2ce-1274-4b93-a5f2-4a2c1e5b8587",
   "metadata": {},
   "outputs": [
    {
     "name": "stdout",
     "output_type": "stream",
     "text": [
      "26\n"
     ]
    }
   ],
   "source": [
    "#string length can be seen by using len\n",
    "x = \"Maharashtra is a big state\"\n",
    "print(len(x)) #prints the total characters in the sentence "
   ]
  },
  {
   "cell_type": "code",
   "execution_count": 17,
   "id": "59fdb401-30c3-474a-9805-f907135152af",
   "metadata": {},
   "outputs": [
    {
     "name": "stdout",
     "output_type": "stream",
     "text": [
      "True\n"
     ]
    }
   ],
   "source": [
    "#checking is there are some words present or not prosent in the string can be done using in or not in \n",
    "text = \"traffic in cities is getting worse\"\n",
    "print(\"cities\" in text) #give True is the word \"cities\" is in the text , otherwise gives False "
   ]
  },
  {
   "cell_type": "code",
   "execution_count": 19,
   "id": "c110cd8f-c42d-47f2-a974-f2947509ee5d",
   "metadata": {},
   "outputs": [
    {
     "name": "stdout",
     "output_type": "stream",
     "text": [
      "yes\n"
     ]
    }
   ],
   "source": [
    "#if we want the response as Yes / No or a sentence instead of True or False then we can use if statement \n",
    "text = \"traffic in cities is getting worse\"\n",
    "if \"cities\" in text:\n",
    "    print(\"yes\") #this will return yes, if we want a sentence then give the whole string \"Yes, it is present\""
   ]
  },
  {
   "cell_type": "code",
   "execution_count": 24,
   "id": "a6931067-4ae4-4332-a89f-541b6450ed47",
   "metadata": {},
   "outputs": [
    {
     "name": "stdout",
     "output_type": "stream",
     "text": [
      "yes\n"
     ]
    }
   ],
   "source": [
    "#if we want to check if something is NOT in the string we use not in instead of in\n",
    "text = \"traffic in cities is getting worse\"\n",
    "if \"worst\" not in text:\n",
    "    print(\"yes\") #notice I gave not in and the spelling is worst not worse, if I used worse I ned to give else statement otherwise no result is returned aswe have not said what should be done \n",
    "else:\n",
    "    print(\"no\")"
   ]
  },
  {
   "cell_type": "code",
   "execution_count": 29,
   "id": "94933dfc-28e2-4440-bf0b-f89c9d411629",
   "metadata": {},
   "outputs": [
    {
     "name": "stdout",
     "output_type": "stream",
     "text": [
      "i\n",
      "ia is i\n",
      "ia is incredible\n",
      "India is incredibl\n"
     ]
    }
   ],
   "source": [
    "#slicing of strings is to return only part of the string based on the character position. the position is counted from left starting with 0, even spaces are a position\n",
    "text = \"India is incredible\"\n",
    "print(text[3]) #this gives the single character that is in the 3rd position, if I want from a position to some other position i need to mention\n",
    "print(text[3:10]) #this gives the characters that appear from 3rd position to 9th position, 10 is not included \n",
    "print(text[3:]) #this gives 3rd character till the end of string \n",
    "print(text[:-1]) #this gives 0th character till the last characted excluding , in this case I have used -ve indexing "
   ]
  },
  {
   "cell_type": "code",
   "execution_count": null,
   "id": "6144be93-19a4-4aa1-a185-8b9ae25b5dc9",
   "metadata": {},
   "outputs": [],
   "source": [
    "#to change case of the string we use upper or lower \n",
    "text.upper() -> print(text.upper()) #this changes all to upper case \n",
    "text.lower() -> print(text.lower()) #this changes all to lower case "
   ]
  },
  {
   "cell_type": "code",
   "execution_count": 32,
   "id": "0931dcaf-efe1-4d90-9cd5-44c866f1ff0f",
   "metadata": {},
   "outputs": [
    {
     "name": "stdout",
     "output_type": "stream",
     "text": [
      "this is python\n"
     ]
    }
   ],
   "source": [
    "#to to remove whitespace , like how we use trim in excel here we use strip()\n",
    "text = \"  this is python\"\n",
    "print(text.strip()) #this will retun the string by removing the space in the start of the string "
   ]
  },
  {
   "cell_type": "code",
   "execution_count": 34,
   "id": "3ff4d388-2929-43cb-92bb-a9161a1c5a0f",
   "metadata": {},
   "outputs": [
    {
     "name": "stdout",
     "output_type": "stream",
     "text": [
      "Thic ic python\n"
     ]
    }
   ],
   "source": [
    "#to replace a character in a string we use replace() \n",
    "text = \"This is python\"\n",
    "print(text.replace(\"s\" , \"c\")) #this replaces all \"s\" with \"c\" "
   ]
  },
  {
   "cell_type": "code",
   "execution_count": 37,
   "id": "f56c8737-aef1-4659-ad72-884163115cd4",
   "metadata": {},
   "outputs": [
    {
     "name": "stdout",
     "output_type": "stream",
     "text": [
      "['This is python']\n"
     ]
    }
   ],
   "source": [
    "#to split the string into substrings we use split()\n",
    "text = \"This is python\"\n",
    "print(text.split(\",\")) #this gives us the substrong in sq brackets []"
   ]
  },
  {
   "cell_type": "code",
   "execution_count": 40,
   "id": "92b9a84e-c87f-4319-8d0b-289b56fea6d8",
   "metadata": {},
   "outputs": [
    {
     "name": "stdout",
     "output_type": "stream",
     "text": [
      "higood morning\n"
     ]
    }
   ],
   "source": [
    "#string concatenation is used just like in excel to combine the data \n",
    "a= \"hi\"\n",
    "b=\"good morning\"\n",
    "print(a+b) # this gives us higood morning, we need a space between hi and good so we need to add it in the string variable itself. of by adding another variable to give the \" \" space in between "
   ]
  },
  {
   "cell_type": "code",
   "execution_count": 44,
   "id": "14dfdf91-0d6d-47b5-9d2d-db6fe342de57",
   "metadata": {},
   "outputs": [
    {
     "name": "stdout",
     "output_type": "stream",
     "text": [
      "the legal age to drive is 18\n"
     ]
    }
   ],
   "source": [
    "#formating of strings can be done by using f-string , we can use {} for this \n",
    "age=18\n",
    "text = f\"the legal age to drive is {age}\"\n",
    "print(text) #this is giving the age variable as part of the text printed "
   ]
  },
  {
   "cell_type": "code",
   "execution_count": 43,
   "id": "463abad9-1aba-45a8-83e1-b64259f3647d",
   "metadata": {},
   "outputs": [
    {
     "name": "stdout",
     "output_type": "stream",
     "text": [
      "it's ok\n"
     ]
    }
   ],
   "source": [
    "#escape characters , these are used if we want to put a \" \" or a ' ' within a string, add a new tab, sentence etc like i want ot write it's the quote needs to have an escape character \n",
    "text = \"it\\'s ok\"\n",
    "print(text) #because we added a backslash \\' we did not get an error otherwise the quote would cause syntax error "
   ]
  },
  {
   "cell_type": "code",
   "execution_count": null,
   "id": "7aa8554e-33a8-499a-b3ec-2e64bf8cc68e",
   "metadata": {},
   "outputs": [],
   "source": []
  }
 ],
 "metadata": {
  "kernelspec": {
   "display_name": "Python 3 (ipykernel)",
   "language": "python",
   "name": "python3"
  },
  "language_info": {
   "codemirror_mode": {
    "name": "ipython",
    "version": 3
   },
   "file_extension": ".py",
   "mimetype": "text/x-python",
   "name": "python",
   "nbconvert_exporter": "python",
   "pygments_lexer": "ipython3",
   "version": "3.12.4"
  }
 },
 "nbformat": 4,
 "nbformat_minor": 5
}
